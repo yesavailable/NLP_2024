{
  "nbformat": 4,
  "nbformat_minor": 0,
  "metadata": {
    "colab": {
      "provenance": [],
      "authorship_tag": "ABX9TyMtflYoZzCFDJBwMar4Bqvl",
      "include_colab_link": true
    },
    "kernelspec": {
      "name": "python3",
      "display_name": "Python 3"
    },
    "language_info": {
      "name": "python"
    }
  },
  "cells": [
    {
      "cell_type": "markdown",
      "metadata": {
        "id": "view-in-github",
        "colab_type": "text"
      },
      "source": [
        "<a href=\"https://colab.research.google.com/github/yesavailable/NLP_2024/blob/main/untitled3.ipynb\" target=\"_parent\"><img src=\"https://colab.research.google.com/assets/colab-badge.svg\" alt=\"Open In Colab\"/></a>"
      ]
    },
    {
      "cell_type": "code",
      "execution_count": 1,
      "metadata": {
        "colab": {
          "base_uri": "https://localhost:8080/"
        },
        "id": "A7N5k2SZ-Xam",
        "outputId": "bc33498c-4277-45f8-ae16-cd3ebb1725e2"
      },
      "outputs": [
        {
          "output_type": "stream",
          "name": "stdout",
          "text": [
            "Match: some\n",
            "Match: some\n",
            "Match: some\n",
            "Match: some\n"
          ]
        }
      ],
      "source": [
        "import re\n",
        "\n",
        "e=\"some,someone,somewhere,something\"\n",
        "pattern=r\"some*\"\n",
        "matches=re.findall(pattern,e)\n",
        "\n",
        "for i in matches:\n",
        "  print(\"Match:\",i)"
      ]
    },
    {
      "cell_type": "code",
      "source": [
        "import re\n",
        "\n",
        "Sim='cat,sat'\n",
        "psttern=r'.at'\n",
        "matter=re.findall(psttern,Sim)\n",
        "\n",
        "for i in matter :\n",
        "  print(i)\n",
        "\n",
        "cats='dog, humans'\n",
        "pattern=r'.at'\n",
        "metter=re.findall(pattern,cats)\n",
        "if i in metter:\n",
        "  print('고양이가 세상을 지배한다')\n",
        "print('고양이가 세상을 구한다')"
      ],
      "metadata": {
        "id": "wsGfB7RGLBUq",
        "outputId": "6ec13455-05d1-4af8-f33c-5321d91123f5",
        "colab": {
          "base_uri": "https://localhost:8080/"
        }
      },
      "execution_count": null,
      "outputs": [
        {
          "output_type": "stream",
          "name": "stdout",
          "text": [
            "cat\n",
            "sat\n",
            "고양이가 세상을 구한다\n"
          ]
        }
      ]
    },
    {
      "cell_type": "code",
      "source": [
        "def add(e,f):\n",
        "  return e+f\n",
        "a=4\n",
        "b=3\n",
        "c=add(a,b)"
      ],
      "metadata": {
        "id": "tmwurMK2eDst",
        "outputId": "effb0c37-8850-46b6-cb48-3c330b0b561b",
        "colab": {
          "base_uri": "https://localhost:8080/"
        }
      },
      "execution_count": null,
      "outputs": [
        {
          "output_type": "stream",
          "name": "stdout",
          "text": [
            "7\n"
          ]
        }
      ]
    },
    {
      "cell_type": "code",
      "source": [
        "def BIM(e,f,g):\n",
        "  if g==1:\n",
        "    return e/f**2\n",
        "  else:\n",
        "    return 4083.75*e/f**2\n",
        "\n",
        "a=input(\"몸무게는?\")\n",
        "b=input(\"키는?\")\n",
        "c=input(\"척관법을 사용한다면 c에 1이 아닌 다른 숫자를 넣어주세요.\")\n",
        "d=BIM(a,b,c)"
      ],
      "metadata": {
        "id": "P-1QudtzekYh",
        "outputId": "873ff9a4-28c4-49e1-8a5c-215912bf2e88",
        "colab": {
          "base_uri": "https://localhost:8080/",
          "height": 350
        }
      },
      "execution_count": null,
      "outputs": [
        {
          "name": "stdout",
          "output_type": "stream",
          "text": [
            "몸무게는?50\n",
            "키는?160\n",
            "척관법을 사용한다면 c에 1이 아닌 다른 숫자를 넣어주세요.1\n"
          ]
        },
        {
          "output_type": "error",
          "ename": "TypeError",
          "evalue": "can't multiply sequence by non-int of type 'float'",
          "traceback": [
            "\u001b[0;31m---------------------------------------------------------------------------\u001b[0m",
            "\u001b[0;31mTypeError\u001b[0m                                 Traceback (most recent call last)",
            "\u001b[0;32m<ipython-input-13-9ee534f86d03>\u001b[0m in \u001b[0;36m<cell line: 10>\u001b[0;34m()\u001b[0m\n\u001b[1;32m      8\u001b[0m \u001b[0mb\u001b[0m\u001b[0;34m=\u001b[0m\u001b[0minput\u001b[0m\u001b[0;34m(\u001b[0m\u001b[0;34m\"키는?\"\u001b[0m\u001b[0;34m)\u001b[0m\u001b[0;34m\u001b[0m\u001b[0;34m\u001b[0m\u001b[0m\n\u001b[1;32m      9\u001b[0m \u001b[0mc\u001b[0m\u001b[0;34m=\u001b[0m\u001b[0minput\u001b[0m\u001b[0;34m(\u001b[0m\u001b[0;34m\"척관법을 사용한다면 c에 1이 아닌 다른 숫자를 넣어주세요.\"\u001b[0m\u001b[0;34m)\u001b[0m\u001b[0;34m\u001b[0m\u001b[0;34m\u001b[0m\u001b[0m\n\u001b[0;32m---> 10\u001b[0;31m \u001b[0md\u001b[0m\u001b[0;34m=\u001b[0m\u001b[0mBIM\u001b[0m\u001b[0;34m(\u001b[0m\u001b[0ma\u001b[0m\u001b[0;34m,\u001b[0m\u001b[0mb\u001b[0m\u001b[0;34m,\u001b[0m\u001b[0mc\u001b[0m\u001b[0;34m)\u001b[0m\u001b[0;34m\u001b[0m\u001b[0;34m\u001b[0m\u001b[0m\n\u001b[0m",
            "\u001b[0;32m<ipython-input-13-9ee534f86d03>\u001b[0m in \u001b[0;36mBIM\u001b[0;34m(e, f, g)\u001b[0m\n\u001b[1;32m      3\u001b[0m     \u001b[0;32mreturn\u001b[0m \u001b[0me\u001b[0m\u001b[0;34m/\u001b[0m\u001b[0mf\u001b[0m\u001b[0;34m**\u001b[0m\u001b[0;36m2\u001b[0m\u001b[0;34m\u001b[0m\u001b[0;34m\u001b[0m\u001b[0m\n\u001b[1;32m      4\u001b[0m   \u001b[0;32melse\u001b[0m\u001b[0;34m:\u001b[0m\u001b[0;34m\u001b[0m\u001b[0;34m\u001b[0m\u001b[0m\n\u001b[0;32m----> 5\u001b[0;31m     \u001b[0;32mreturn\u001b[0m \u001b[0;36m4083.75\u001b[0m\u001b[0;34m*\u001b[0m\u001b[0me\u001b[0m\u001b[0;34m/\u001b[0m\u001b[0mf\u001b[0m\u001b[0;34m**\u001b[0m\u001b[0;36m2\u001b[0m\u001b[0;34m\u001b[0m\u001b[0;34m\u001b[0m\u001b[0m\n\u001b[0m\u001b[1;32m      6\u001b[0m \u001b[0;34m\u001b[0m\u001b[0m\n\u001b[1;32m      7\u001b[0m \u001b[0ma\u001b[0m\u001b[0;34m=\u001b[0m\u001b[0minput\u001b[0m\u001b[0;34m(\u001b[0m\u001b[0;34m\"몸무게는?\"\u001b[0m\u001b[0;34m)\u001b[0m\u001b[0;34m\u001b[0m\u001b[0;34m\u001b[0m\u001b[0m\n",
            "\u001b[0;31mTypeError\u001b[0m: can't multiply sequence by non-int of type 'float'"
          ]
        }
      ]
    },
    {
      "cell_type": "code",
      "source": [
        "def add_and_mul(a,b):\n",
        "  return a+b,a*b\n",
        "\n",
        "result=add_and_mul(3,4)"
      ],
      "metadata": {
        "id": "ndjGRI1en4Cw"
      },
      "execution_count": null,
      "outputs": []
    },
    {
      "cell_type": "code",
      "source": [
        "def say_nick(nick):\n",
        "  if nick==\"바보\":\n",
        "    return\n",
        "  print(\"나의 별명은 %s입니다.\"%nick)\n"
      ],
      "metadata": {
        "id": "vnsH1QOQXnvM"
      },
      "execution_count": null,
      "outputs": []
    },
    {
      "cell_type": "code",
      "source": [
        "treeHit=0\n",
        "while treeHit<10:\n",
        "  treeHit=treeHit+1\n",
        "  print(\"나무를 %d번 찍었습니다.\"%treeHit)\n",
        "  if treeHit==10:\n",
        "    print(\"나무 넘어갑니다.\")"
      ],
      "metadata": {
        "id": "Igp-mWhTX_gz",
        "outputId": "6518f53a-e3a2-450c-ffe9-d08fda75fcab",
        "colab": {
          "base_uri": "https://localhost:8080/"
        }
      },
      "execution_count": null,
      "outputs": [
        {
          "output_type": "stream",
          "name": "stdout",
          "text": [
            "나무를 1번 찍었습니다.\n",
            "나무를 2번 찍었습니다.\n",
            "나무를 3번 찍었습니다.\n",
            "나무를 4번 찍었습니다.\n",
            "나무를 5번 찍었습니다.\n",
            "나무를 6번 찍었습니다.\n",
            "나무를 7번 찍었습니다.\n",
            "나무를 8번 찍었습니다.\n",
            "나무를 9번 찍었습니다.\n",
            "나무를 10번 찍었습니다.\n",
            "나무 넘어갑니다.\n"
          ]
        }
      ]
    },
    {
      "cell_type": "code",
      "source": [
        "a=\"iu\"\n",
        "if a==\"iu\":\n",
        "  print(\"난 다시 꿈을 꾸게 되었어 그대를 만난 후부터.\")"
      ],
      "metadata": {
        "id": "2Xnj4KbrGd6K",
        "outputId": "f2a2aa55-4db5-4ac9-d68f-5c363dc01fb7",
        "colab": {
          "base_uri": "https://localhost:8080/"
        }
      },
      "execution_count": null,
      "outputs": [
        {
          "output_type": "stream",
          "name": "stdout",
          "text": [
            "난 다시 꿈을 꾸게 되었어 그대를 만난 후부터.\n"
          ]
        }
      ]
    },
    {
      "cell_type": "code",
      "source": [
        "a=1\n",
        "if a>10:\n",
        "  print(\"a는 10보다 크다.\")\n",
        "else :\n",
        "  print(\"a는 10보다 작다.\")"
      ],
      "metadata": {
        "id": "_5LhXPR_b1FD",
        "outputId": "1864ccbc-bb4d-4517-f2de-083a5453fa82",
        "colab": {
          "base_uri": "https://localhost:8080/"
        }
      },
      "execution_count": null,
      "outputs": [
        {
          "output_type": "stream",
          "name": "stdout",
          "text": [
            "a는 10보다 작다.\n"
          ]
        }
      ]
    },
    {
      "cell_type": "code",
      "source": [
        "test_list=['one','two','three']\n",
        "for i in test_list:\n",
        "\n",
        "  print(i)"
      ],
      "metadata": {
        "id": "Wv-P4Era84Kk",
        "outputId": "471c594b-d186-4d2c-b536-5446a53d9142",
        "colab": {
          "base_uri": "https://localhost:8080/"
        }
      },
      "execution_count": null,
      "outputs": [
        {
          "output_type": "stream",
          "name": "stdout",
          "text": [
            "one\n",
            "two\n",
            "three\n"
          ]
        }
      ]
    },
    {
      "cell_type": "code",
      "source": [
        "def"
      ],
      "metadata": {
        "id": "fQo4s-GqoW4Y"
      },
      "execution_count": null,
      "outputs": []
    }
  ]
}