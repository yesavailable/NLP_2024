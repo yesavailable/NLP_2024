{
  "nbformat": 4,
  "nbformat_minor": 0,
  "metadata": {
    "colab": {
      "provenance": [],
      "authorship_tag": "ABX9TyPrXNm+o2ysFt4D/EPqekfn",
      "include_colab_link": true
    },
    "kernelspec": {
      "name": "python3",
      "display_name": "Python 3"
    },
    "language_info": {
      "name": "python"
    }
  },
  "cells": [
    {
      "cell_type": "markdown",
      "metadata": {
        "id": "view-in-github",
        "colab_type": "text"
      },
      "source": [
        "<a href=\"https://colab.research.google.com/github/yesavailable/NLP_2024/blob/main/MyMajor.ipynb\" target=\"_parent\"><img src=\"https://colab.research.google.com/assets/colab-badge.svg\" alt=\"Open In Colab\"/></a>"
      ]
    },
    {
      "cell_type": "markdown",
      "source": [
        "# **상담심리학과에 대하여** 🌌\n",
        "\n",
        "| 목차 | 번호 | 제목 |\n",
        "| :--: | :--: | :--: |\n",
        "| 💭 | 1 | 심리학의 정의 |\n",
        "| 📃 | 2 | 심리학의 역사 |\n",
        "| 🎓 | 3 | 졸업 후 진출분야 |\n",
        "| ⚠️ | 4 | <font color =gray> 개인적으로 생각하는 </font> 심리학의 매력 |"
      ],
      "metadata": {
        "id": "Lp8hIn4-2mt1"
      }
    },
    {
      "cell_type": "markdown",
      "source": [
        "### 1. 심리학의 정의 💭\n",
        "> 인간과 동물의 행동과 그 행동에 관련된 심리적, 생리적, 사회적 과정 그리고 이 둘 사이의 상호작용을 과학적으로 연구하려는 경험과학의 한 분야를 뜻한다.\n",
        "##### [위키백과](https://ko.wikipedia.org/wiki/%EC%8B%AC%EB%A6%AC%ED%95%99)\n",
        "\n",
        "### 2. 심리학의 역사 📃\n",
        "\n",
        "* 기원은 고대 그리스부터 이어져왔다. 그러나 이 때는 철학자들의 철학과 경계가 모호하여 심리학이라는 개념을 사용하지 않았다.\n",
        "* 심리학이 철학에서 분화되어 과학의 한 분야로 인정받는 것은 19세기 후반이다. 1879년 빈헬름 분트가 첫 심리학 연구소를 개설하고, 스스로를 심리학자라 칭하면서 심리학은 독립된 하나의 학문이 되었다.\n",
        "* 1890년대에 이르러 오스트리아의 프로이트가 정신분석학이라는 심리학 영역을 구축하였다. 이후 프로이트에 영향을 받아 카를 융, 아프레트 아들러 등 유명한 심리학자들이 배출되었다.\n",
        "\n",
        "### 3. 졸업 후 진출분야 🎓\n",
        "> 상담심리학과를 졸업하면 상담심리 및 임상심리 관련 자격증을 취득한 후 청소년상담 및 지도, 심리상담, 임상심리, 사회복지기관, 학교, 공공기관, 기업, 경찰 등 다양한 분야로의 진출이 가능하다. ...\n",
        "[한남대 홈페이지]()\n",
        "##### 심리학과를 졸업한 학부생은 대학원 진학을 통해 연구원, 전문가, 교수가 될 수도 있지만 광고와 언론계로 진출할 수 있다.\n",
        "\n",
        "### 4.<font color = gray > *개인적으로 생각하는* </font>심리학의 매력\n",
        "> **누구나 쉽게 접근할 수 있다!** 심리 이론을 인용하거나 서술하는 교양서적이 많다.\n",
        "\n",
        "> 특이하고 흥미로운 실험이 많다. 귀신부터 점성술, 프로파일링을 통한 범죄자의 심리 분석까지! 연구 범위가 광범위하니만큼 다양한 연구자들이 갖가지 방식으로 연구를 진행한다!\n",
        "> * 🙈 <font color = red> 주의 </font> 다양한 실험이 행해지고, 심리학은 기본적으로 인간을 대상으로 진행하는 학문이다보니, 인권에 관한 의식이 현대보다 무지한 과거 19세기 전후 의 실험은 반인륜적인 실험이 많으니, 흥미로 찾을때에는 주의하시길 바랍니다."
      ],
      "metadata": {
        "id": "gmXZPtDtEFJf"
      }
    }
  ]
}