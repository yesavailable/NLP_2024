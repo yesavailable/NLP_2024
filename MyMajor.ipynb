{
  "nbformat": 4,
  "nbformat_minor": 0,
  "metadata": {
    "colab": {
      "provenance": [],
      "authorship_tag": "ABX9TyOs7n0fY3errIzYx81GzP79",
      "include_colab_link": true
    },
    "kernelspec": {
      "name": "python3",
      "display_name": "Python 3"
    },
    "language_info": {
      "name": "python"
    }
  },
  "cells": [
    {
      "cell_type": "markdown",
      "metadata": {
        "id": "view-in-github",
        "colab_type": "text"
      },
      "source": [
        "<a href=\"https://colab.research.google.com/github/yesavailable/NLP_2024/blob/main/MyMajor.ipynb\" target=\"_parent\"><img src=\"https://colab.research.google.com/assets/colab-badge.svg\" alt=\"Open In Colab\"/></a>"
      ]
    },
    {
      "cell_type": "markdown",
      "source": [
        "# **상담심리학과에 대하여** 🌌\n",
        "\n",
        "### 1. 심리학의 정의 💭\n",
        "> 인간과 동물의 행동과 그 행동에 관련된 심리적, 생리적, 사회적 과정 그리고 이 둘 사이의 상호작용을 과학적으로 연구하려는 경험과학의 한 분야를 뜻한다.\n",
        "##### [위키백과](https://ko.wikipedia.org/wiki/%EC%8B%AC%EB%A6%AC%ED%95%99)\n",
        "\n",
        "### 2. 심리학의 역사\n",
        "\n",
        "* 기원은 고대 그리스부터 이어져왔다. 그러나 이 때는 철학자들의 철학과 경계가 모호하여 심리학이라는 개념을 사용하지 않았다.\n",
        "*\n",
        "\n",
        "### 3. 졸업 후 진출분야\n",
        "> 상담심리학과를 졸업하면 상담심리 및 임상심리 관련 자격증을 취득한 후 청소년상담 및 지도, 심리상담, 임상심리, 사회복지기관, 학교, 공공기관, 기업, 경찰 등 다양한 분야로의 진출이 가능하다. ...\n",
        "[한남대 홈페이지]()\n",
        "##### 심리학과를 졸업한 학부생은 대학원 진학을 통해 연구원, 전문가, 교수가 될 수도 있지만 광고와 언론계로 진출할 수 있다.\n",
        "\n",
        "### 4. *개인적으로 생각하는* 상담심리학의 매력\n",
        "> **누구나 쉽게 접근할 수 있다!** 심리 이론을 인용하거나 서술하는 교양서적이 많다.\n",
        "\n",
        "> 특이하고 흥미로운 실험이 많다. 귀신부터 점성술, 프로파일링을 통한 범죄자의 심리 분석까지! 연구 범위가 광범위하니만큼 다양한 연구자들이 갖가지 방식으로 연구를 진행한다!\n"
      ],
      "metadata": {
        "id": "Lp8hIn4-2mt1"
      }
    }
  ]
}