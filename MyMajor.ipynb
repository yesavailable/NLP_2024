{
  "nbformat": 4,
  "nbformat_minor": 0,
  "metadata": {
    "colab": {
      "provenance": [],
      "authorship_tag": "ABX9TyM1A+c5k9oqiS5poTfOiHgT",
      "include_colab_link": true
    },
    "kernelspec": {
      "name": "python3",
      "display_name": "Python 3"
    },
    "language_info": {
      "name": "python"
    }
  },
  "cells": [
    {
      "cell_type": "markdown",
      "metadata": {
        "id": "view-in-github",
        "colab_type": "text"
      },
      "source": [
        "<a href=\"https://colab.research.google.com/github/yesavailable/NLP_2024/blob/main/MyMajor.ipynb\" target=\"_parent\"><img src=\"https://colab.research.google.com/assets/colab-badge.svg\" alt=\"Open In Colab\"/></a>"
      ]
    },
    {
      "cell_type": "markdown",
      "source": [
        "# **심리학과에 대하여**\n",
        "\n",
        "### 1. 심리학의 정의\n",
        "* 인간과 동물의 행동과 그 행동에 관련된 심리적, 생리적, 사회적 과정 그리고 이 둘 사이의 상호작용을 과학적으로 연구하려는 경험과학의 한 분야를 뜻한다.(fnt color/gray)위키백과\n",
        "\n",
        "### 2. 심리학과에서 배우는 것\n",
        "### 3. 졸업 이후\n",
        "\n"
      ],
      "metadata": {
        "id": "Lp8hIn4-2mt1"
      }
    }
  ]
}